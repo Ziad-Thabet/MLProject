{
 "cells": [
  {
   "cell_type": "code",
   "execution_count": 12,
   "metadata": {},
   "outputs": [],
   "source": [
    "import os\n",
    "import cv2\n",
    "import numpy as np\n",
    "import imutils\n",
    "import matplotlib.pyplot as plt\n",
    "from tensorflow.keras.preprocessing.image import ImageDataGenerator"
   ]
  },
  {
   "cell_type": "markdown",
   "metadata": {},
   "source": [
    "## Crop Images"
   ]
  },
  {
   "cell_type": "code",
   "execution_count": 13,
   "metadata": {},
   "outputs": [],
   "source": [
    "def crop_images(image):\n",
    "    gray = cv2.cvtColor(image, cv2.COLOR_RGB2GRAY)\n",
    "    gray = cv2.GaussianBlur(gray, (5, 5), 0)\n",
    "\n",
    "    # Threshold the image\n",
    "    thresh = cv2.threshold(gray, 45, 255, cv2.THRESH_BINARY)[1]\n",
    "    thresh = cv2.erode(thresh, None, iterations=2)\n",
    "    thresh = cv2.dilate(thresh, None, iterations=2)\n",
    "\n",
    "    # Find contours\n",
    "    cnts = cv2.findContours(thresh.copy(), cv2.RETR_EXTERNAL, cv2.CHAIN_APPROX_SIMPLE)\n",
    "    cnts = imutils.grab_contours(cnts)\n",
    "\n",
    "    if cnts:\n",
    "        # Find the largest contour\n",
    "        c = max(cnts, key=cv2.contourArea)\n",
    "\n",
    "        # Find the extreme points\n",
    "        extLeft = tuple(c[c[:, :, 0].argmin()][0])\n",
    "        extRight = tuple(c[c[:, :, 0].argmax()][0])\n",
    "        extTop = tuple(c[c[:, :, 1].argmin()][0])\n",
    "        extBot = tuple(c[c[:, :, 1].argmax()][0])\n",
    "\n",
    "        # Add contour and extreme points to the image\n",
    "        img_cnt = cv2.drawContours(image.copy(), [c], -1, (0, 255, 255), 4)\n",
    "        img_pnt = cv2.circle(img_cnt.copy(), extLeft, 5, (0, 0, 255), -1)\n",
    "        img_pnt = cv2.circle(img_pnt, extRight, 5, (0, 255, 0), -1)\n",
    "        img_pnt = cv2.circle(img_pnt, extTop, 5, (255, 0, 0), -1)\n",
    "        img_pnt = cv2.circle(img_pnt, extBot, 5, (255, 255, 0), -1)\n",
    "\n",
    "        # Apply crop\n",
    "        ADD_PIXELS = 0\n",
    "        new_image = image[\n",
    "            extTop[1] - ADD_PIXELS : extBot[1] + ADD_PIXELS,\n",
    "            extLeft[0] - ADD_PIXELS : extRight[0] + ADD_PIXELS,\n",
    "        ].copy()\n",
    "\n",
    "        return new_image\n",
    "    else:\n",
    "        return None"
   ]
  },
  {
   "cell_type": "code",
   "execution_count": null,
   "metadata": {},
   "outputs": [],
   "source": [
    "def crop_and_save_images_with_plot(input_directory, output_directory):\n",
    "    for root, dirs, files in os.walk(input_directory):\n",
    "        for file in files:\n",
    "            if file.endswith(\".jpg\") or file.endswith(\".png\"):\n",
    "                image_path = os.path.join(root, file)\n",
    "                image = cv2.imread(image_path)\n",
    "\n",
    "            # Crop the image\n",
    "            cropped_image = crop_images(image)\n",
    "\n",
    "            if cropped_image is not None:\n",
    "                # Save the cropped image\n",
    "                class_name = os.path.basename(os.path.dirname(image_path))\n",
    "                class_directory = os.path.join(output_directory, class_name)\n",
    "                os.makedirs(class_directory, exist_ok=True)\n",
    "                new_image_path = os.path.join(class_directory, file)\n",
    "                cv2.imwrite(new_image_path, cropped_image)\n",
    "\n",
    "                # # Plot the sequential steps\n",
    "                # fig, axs = plt.subplots(1, 2, figsize=(10, 5))\n",
    "                # axs[0].imshow(cv2.cvtColor(image, cv2.COLOR_BGR2RGB))\n",
    "                # axs[0].set_title('Original Image')\n",
    "                # axs[0].axis('off')\n",
    "\n",
    "                # axs[1].imshow(cv2.cvtColor(cropped_image, cv2.COLOR_BGR2RGB))\n",
    "                # axs[1].set_title('Cropped Image')\n",
    "                # axs[1].axis('off')\n",
    "\n",
    "                # plt.tight_layout()\n",
    "                # plt.show()"
   ]
  },
  {
   "cell_type": "markdown",
   "metadata": {},
   "source": [
    "## Augmented Data With Plot"
   ]
  },
  {
   "cell_type": "code",
   "execution_count": 26,
   "metadata": {},
   "outputs": [],
   "source": [
    "def augment_images_with_plot(input_directory, output_directory, num_images=5):\n",
    "    datagen = ImageDataGenerator(\n",
    "        rotation_range=20,\n",
    "        width_shift_range=0.2,\n",
    "        height_shift_range=0.2,\n",
    "        rescale=1.0 / 255,\n",
    "        shear_range=0.2,\n",
    "        zoom_range=0.2,\n",
    "        horizontal_flip=True,\n",
    "        fill_mode=\"nearest\",\n",
    "    )\n",
    "\n",
    "    for root, dirs, files in os.walk(input_directory):\n",
    "        for file in files:\n",
    "            if file.endswith(\".jpg\") or file.endswith(\".png\"):\n",
    "                image_path = os.path.join(root, file)\n",
    "                image = cv2.imread(image_path)\n",
    "                image = cv2.cvtColor(image, cv2.COLOR_BGR2RGB)\n",
    "                image = image.reshape((1,) + image.shape)\n",
    "                save_prefix = file.split(\".\")[0] + \"_aug\"\n",
    "\n",
    "                class_name = os.path.basename(os.path.dirname(image_path))\n",
    "                data_split = os.path.basename(\n",
    "                    os.path.dirname(os.path.dirname(image_path))\n",
    "                )\n",
    "\n",
    "                class_directory = os.path.join(output_directory, data_split, class_name)\n",
    "                os.makedirs(class_directory, exist_ok=True)\n",
    "\n",
    "                i = 0\n",
    "                for batch in datagen.flow(\n",
    "                    image,\n",
    "                    batch_size=1,\n",
    "                    save_to_dir=class_directory,\n",
    "                    save_prefix=save_prefix,\n",
    "                    save_format=\"jpg\",\n",
    "                ):\n",
    "                    i += 1\n",
    "                    if i >= num_images:\n",
    "                        break"
   ]
  },
  {
   "cell_type": "code",
   "execution_count": 19,
   "metadata": {},
   "outputs": [],
   "source": [
    "def create_augmented_data_with_plot(input_directory, output_directory):\n",
    "    os.makedirs(output_directory, exist_ok=True)\n",
    "    for sub_directory in os.listdir(input_directory):\n",
    "        if os.path.isdir(os.path.join(input_directory, sub_directory)):\n",
    "            input_sub_directory = os.path.join(input_directory, sub_directory)\n",
    "            output_sub_directory = os.path.join(output_directory, sub_directory)\n",
    "            os.makedirs(output_sub_directory, exist_ok=True)\n",
    "            augment_images_with_plot(input_sub_directory, output_sub_directory)"
   ]
  },
  {
   "cell_type": "markdown",
   "metadata": {},
   "source": [
    "## Augmentaion"
   ]
  },
  {
   "cell_type": "code",
   "execution_count": 27,
   "metadata": {},
   "outputs": [],
   "source": [
    "augmented_directory = \"./augmented_data/\"\n",
    "train_directory = \"./Brain Tumor/Training\"\n",
    "test_directory = \"./Brain Tumor/Testing\"\n",
    "augment_images_with_plot(train_directory, augmented_directory)\n",
    "augment_images_with_plot(test_directory, augmented_directory)"
   ]
  },
  {
   "cell_type": "markdown",
   "metadata": {},
   "source": [
    "## Cropping Data"
   ]
  },
  {
   "cell_type": "code",
   "execution_count": 29,
   "metadata": {},
   "outputs": [],
   "source": [
    "cropped_train = \"./augmented_data/Training\"\n",
    "cropped_test = \"./augmented_data/Testing\"\n",
    "\n",
    "cropped_train_directory = \"./Images_Cropped/cropped_training/\"\n",
    "os.makedirs(cropped_train_directory, exist_ok=True)\n",
    "crop_and_save_images_with_plot(cropped_train, cropped_train_directory)\n",
    "\n",
    "cropped_test_directory = \"./Images_Cropped/cropped_testing/\"\n",
    "os.makedirs(cropped_test_directory, exist_ok=True)\n",
    "crop_and_save_images_with_plot(cropped_test, cropped_test_directory)"
   ]
  }
 ],
 "metadata": {
  "kernelspec": {
   "display_name": "Python 3",
   "language": "python",
   "name": "python3"
  },
  "language_info": {
   "codemirror_mode": {
    "name": "ipython",
    "version": 3
   },
   "file_extension": ".py",
   "mimetype": "text/x-python",
   "name": "python",
   "nbconvert_exporter": "python",
   "pygments_lexer": "ipython3",
   "version": "3.11.3"
  }
 },
 "nbformat": 4,
 "nbformat_minor": 2
}
