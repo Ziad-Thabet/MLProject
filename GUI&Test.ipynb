{
 "cells": [
  {
   "cell_type": "code",
   "execution_count": 1,
   "metadata": {},
   "outputs": [
    {
     "name": "stderr",
     "output_type": "stream",
     "text": [
      "c:\\Anaconda\\envs\\tgpu\\lib\\site-packages\\tqdm\\auto.py:21: TqdmWarning: IProgress not found. Please update jupyter and ipywidgets. See https://ipywidgets.readthedocs.io/en/stable/user_install.html\n",
      "  from .autonotebook import tqdm as notebook_tqdm\n"
     ]
    }
   ],
   "source": [
    "import numpy as np\n",
    "import gradio as gr\n",
    "from keras.models import load_model\n",
    "from PIL import Image\n",
    "import cv2\n",
    "import imutils\n",
    "\n",
    "model = load_model(\"./Models/Custom_CNN(150x150).h5\")"
   ]
  },
  {
   "cell_type": "code",
   "execution_count": 2,
   "metadata": {},
   "outputs": [
    {
     "name": "stdout",
     "output_type": "stream",
     "text": [
      "Running on local URL:  http://127.0.0.1:7860\n",
      "\n",
      "To create a public link, set `share=True` in `launch()`.\n"
     ]
    },
    {
     "data": {
      "text/html": [
       "<div><iframe src=\"http://127.0.0.1:7860/\" width=\"100%\" height=\"500\" allow=\"autoplay; camera; microphone; clipboard-read; clipboard-write;\" frameborder=\"0\" allowfullscreen></iframe></div>"
      ],
      "text/plain": [
       "<IPython.core.display.HTML object>"
      ]
     },
     "metadata": {},
     "output_type": "display_data"
    },
    {
     "data": {
      "text/plain": []
     },
     "execution_count": 2,
     "metadata": {},
     "output_type": "execute_result"
    },
    {
     "name": "stdout",
     "output_type": "stream",
     "text": [
      "1/1 [==============================] - 4s 4s/step\n"
     ]
    }
   ],
   "source": [
    "labels = [\n",
    "    \"glioma_tumor\",\n",
    "    \"meningioma_tumor\",\n",
    "    \"no_tumor\",\n",
    "    \"pituitary_tumor\",\n",
    "]\n",
    "\n",
    "def crop_images(image):\n",
    "    image = np.array(image)\n",
    "    gray = cv2.cvtColor(image, cv2.COLOR_RGB2GRAY)\n",
    "    gray = cv2.GaussianBlur(gray, (5, 5), 0)\n",
    "\n",
    "    thresh = cv2.threshold(gray, 45, 255, cv2.THRESH_BINARY)[1]\n",
    "    thresh = cv2.erode(thresh, None, iterations=2)\n",
    "    thresh = cv2.dilate(thresh, None, iterations=2)\n",
    "\n",
    "    cnts = cv2.findContours(thresh.copy(), cv2.RETR_EXTERNAL, cv2.CHAIN_APPROX_SIMPLE)\n",
    "    cnts = cv2.findContours(thresh.copy(), cv2.RETR_EXTERNAL, cv2.CHAIN_APPROX_SIMPLE)\n",
    "    cnts = imutils.grab_contours(cnts)\n",
    "\n",
    "    if cnts:\n",
    "        c = max(cnts, key=cv2.contourArea)\n",
    "        extLeft = tuple(c[c[:, :, 0].argmin()][0])\n",
    "        extRight = tuple(c[c[:, :, 0].argmax()][0])\n",
    "        extTop = tuple(c[c[:, :, 1].argmin()][0])\n",
    "        extBot = tuple(c[c[:, :, 1].argmax()][0])\n",
    "\n",
    "        ADD_PIXELS = 0\n",
    "        new_image = image[\n",
    "            extTop[1] - ADD_PIXELS : extBot[1] + ADD_PIXELS,\n",
    "            extLeft[0] - ADD_PIXELS : extRight[0] + ADD_PIXELS,\n",
    "        ].copy()\n",
    "\n",
    "        return new_image\n",
    "    else:\n",
    "        return None\n",
    "\n",
    "\n",
    "def predict(image):\n",
    "    cropped_image = crop_images(image)\n",
    "    if cropped_image is None:\n",
    "        return \"No tumor detected\", None\n",
    "    cropped_image = np.array(cropped_image)\n",
    "    cropped_image = cv2.resize(cropped_image, (150, 150))\n",
    "    cropped_image = cv2.cvtColor(cropped_image, cv2.COLOR_BGR2RGB)\n",
    "    cropped_image_input = np.expand_dims(cropped_image, axis=0)\n",
    "    predictions = model.predict(cropped_image_input)[0]\n",
    "    predicted_class = labels[np.argmax(predictions)]\n",
    "    return predicted_class, cropped_image\n",
    "\n",
    "\n",
    "image_input = gr.Image(type=\"pil\", label=\"Original Image\")\n",
    "label_output = gr.Textbox(label=\"Predicted Class\")\n",
    "cropped_image_output = gr.Image(type=\"pil\", label=\"Cropped Image\")\n",
    "\n",
    "interface = gr.Interface(\n",
    "    fn=predict,\n",
    "    inputs=image_input,\n",
    "    outputs=[label_output, cropped_image_output],\n",
    "    title=\"Brain Tumor Detection\",\n",
    "    description=\"Upload an image of a brain MRI scan to detect if there's a tumor.\",\n",
    ")\n",
    "\n",
    "# Launch interface\n",
    "interface.launch()"
   ]
  },
  {
   "cell_type": "code",
   "execution_count": null,
   "metadata": {},
   "outputs": [],
   "source": [
    "image_size = 150\n",
    "path = \"./Test2/\""
   ]
  },
  {
   "cell_type": "code",
   "execution_count": null,
   "metadata": {},
   "outputs": [],
   "source": [
    "import os\n",
    "import glob as gb\n",
    "import matplotlib.pyplot as plt\n",
    "import cv2\n",
    "import numpy as np\n",
    "from tqdm import tqdm\n",
    "\n",
    "\n",
    "def read_images_from_directory(\n",
    "    folder_path,\n",
    "    desc,\n",
    "):\n",
    "    images = []\n",
    "    labels = []\n",
    "\n",
    "    for folder in os.listdir(folder_path):\n",
    "        files = gb.glob(pathname=str(folder_path + \"/\" + folder + \"/*.jpg\"))\n",
    "\n",
    "        for file in tqdm(files, desc=desc + \" in \" + folder):\n",
    "            image = plt.imread(file)\n",
    "            img_resized = cv2.resize(image, (image_size, image_size))\n",
    "            img_rgb = cv2.cvtColor(img_resized, cv2.COLOR_BGR2RGB)\n",
    "            images.append(img_rgb)\n",
    "            labels.append(folder)\n",
    "\n",
    "    return images, labels"
   ]
  },
  {
   "cell_type": "code",
   "execution_count": null,
   "metadata": {},
   "outputs": [],
   "source": [
    "x, y = read_images_from_directory(path, \"Loading Data\")"
   ]
  },
  {
   "cell_type": "code",
   "execution_count": null,
   "metadata": {},
   "outputs": [],
   "source": [
    "import numpy as np\n",
    "from sklearn.preprocessing import LabelBinarizer\n",
    "\n",
    "x_data = np.array(x)\n",
    "lb = LabelBinarizer()\n",
    "y_data = lb.fit_transform(y)\n",
    "print(y_data)"
   ]
  },
  {
   "cell_type": "code",
   "execution_count": null,
   "metadata": {},
   "outputs": [],
   "source": [
    "from keras.models import load_model\n",
    "\n",
    "model = load_model(\"./Models/ResNet101_(150x150).h5\")"
   ]
  },
  {
   "cell_type": "code",
   "execution_count": null,
   "metadata": {},
   "outputs": [],
   "source": [
    "test_loss, test_acc = model.evaluate(x_data, y_data)\n",
    "print(f\"Test accuracy: {test_acc}\")\n",
    "print(f\"Test loss: {test_loss}\")"
   ]
  },
  {
   "cell_type": "code",
   "execution_count": null,
   "metadata": {},
   "outputs": [],
   "source": [
    "y_pred_probs = model.predict(x_data)\n",
    "y_pred = np.argmax(y_pred_probs, axis=1)\n",
    "y_true = np.argmax(y_data, axis=1)"
   ]
  },
  {
   "cell_type": "code",
   "execution_count": null,
   "metadata": {},
   "outputs": [],
   "source": [
    "from sklearn.metrics import (\n",
    "    accuracy_score,\n",
    "    precision_score,\n",
    "    recall_score,\n",
    "    confusion_matrix,\n",
    "    f1_score,\n",
    ")\n",
    "\n",
    "conf_matrix = confusion_matrix(y_true, y_pred)\n",
    "\n",
    "accuracy = accuracy_score(y_true, y_pred)\n",
    "\n",
    "\n",
    "precision = precision_score(y_true, y_pred, average=\"weighted\")\n",
    "\n",
    "\n",
    "recall = recall_score(y_true, y_pred, average=\"weighted\")\n",
    "\n",
    "\n",
    "f1 = f1_score(y_true, y_pred, average=\"weighted\")"
   ]
  },
  {
   "cell_type": "code",
   "execution_count": null,
   "metadata": {},
   "outputs": [],
   "source": [
    "print(f\"Accuracy: {accuracy}\")\n",
    "\n",
    "print(f\"Precision: {precision}\")\n",
    "\n",
    "print(f\"Recall: {recall}\")\n",
    "\n",
    "print(f\"F1 Score: {f1}\")"
   ]
  },
  {
   "cell_type": "code",
   "execution_count": null,
   "metadata": {},
   "outputs": [],
   "source": [
    "import seaborn as sns\n",
    "import matplotlib.pyplot as plt\n",
    "\n",
    "# Create a heatmap for the confusion matrix\n",
    "plt.figure(figsize=(12, 10))\n",
    "heatmap = sns.heatmap(\n",
    "    conf_matrix,\n",
    "    annot=True,\n",
    "    fmt=\"d\",\n",
    "    cmap=\"Blues\",\n",
    "    xticklabels=lb.classes_,\n",
    "    yticklabels=lb.classes_,\n",
    "    linewidths=0.5,\n",
    "    linecolor=\"gray\",\n",
    ")\n",
    "\n",
    "heatmap.set_xlabel(\"Predicted Labels\", fontsize=14)\n",
    "heatmap.set_ylabel(\"True Labels\", fontsize=14)\n",
    "heatmap.set_title(\"Confusion Matrix\", fontsize=16)\n",
    "\n",
    "plt.xticks(rotation=45, ha=\"right\", fontsize=12)\n",
    "plt.yticks(rotation=0, fontsize=12)\n",
    "plt.tight_layout()\n",
    "plt.show()"
   ]
  },
  {
   "cell_type": "code",
   "execution_count": null,
   "metadata": {},
   "outputs": [],
   "source": []
  }
 ],
 "metadata": {
  "kernelspec": {
   "display_name": "Python 3",
   "language": "python",
   "name": "python3"
  },
  "language_info": {
   "codemirror_mode": {
    "name": "ipython",
    "version": 3
   },
   "file_extension": ".py",
   "mimetype": "text/x-python",
   "name": "python",
   "nbconvert_exporter": "python",
   "pygments_lexer": "ipython3",
   "version": "3.10.14"
  }
 },
 "nbformat": 4,
 "nbformat_minor": 2
}
